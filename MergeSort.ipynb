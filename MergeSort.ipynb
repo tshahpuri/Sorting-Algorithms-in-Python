{
  "nbformat": 4,
  "nbformat_minor": 0,
  "metadata": {
    "colab": {
      "name": "Hello, Colaboratory",
      "version": "0.3.2",
      "provenance": [],
      "collapsed_sections": [],
      "toc_visible": true,
      "include_colab_link": true
    },
    "kernelspec": {
      "display_name": "Python 3",
      "name": "python3"
    }
  },
  "cells": [
    {
      "cell_type": "markdown",
      "metadata": {
        "id": "view-in-github",
        "colab_type": "text"
      },
      "source": [
        "[View in Colaboratory](https://colab.research.google.com/github/tshahpuri/Sorting-Algorithms-in-Python/blob/master/MergeSort.ipynb)"
      ]
    },
    {
      "metadata": {
        "id": "2npJBf0DYWQN",
        "colab_type": "code",
        "colab": {}
      },
      "cell_type": "code",
      "source": [
        "# Author: Tejas Shahpuri\n",
        "# This is an example of merge sort in python 3\n",
        "\n",
        "sample_list = [9,8,7,6,5,4,3,2,1,0] "
      ],
      "execution_count": 0,
      "outputs": []
    },
    {
      "metadata": {
        "id": "fhpeCnhoY0Qo",
        "colab_type": "code",
        "colab": {}
      },
      "cell_type": "code",
      "source": [
        "\n",
        "def merge(array, first, middle, last): \n",
        "    \n",
        "    n1 = middle - first + 1\n",
        "    n2 = last - middle \n",
        "  \n",
        "    # create temp arrays \n",
        "    left = [0] * (n1) \n",
        "    right = [0] * (n2) \n",
        "  \n",
        "    # Copy data to temp arrays Left[] and Right[] \n",
        "    for i in range(0 , n1): \n",
        "        left[i] = array[first + i] \n",
        "  \n",
        "    for j in range(0 , n2): \n",
        "        right[j] = array[middle + 1 + j]\n",
        "\n",
        "    # Merge the temp arrays back into arr[l..r] \n",
        "    i = 0     # Initial index of first subarray \n",
        "    j = 0     # Initial index of second subarray \n",
        "    k = first     # Initial index of merged subarray\n",
        "\n",
        "  \n",
        "    while i < len(left) and j < len(right): \n",
        "        if left[i] <= right[j]: \n",
        "            array[k] = left[i]\n",
        "            i += 1\n",
        "        else: \n",
        "            array[k] = right[j]\n",
        "            j += 1\n",
        "        k += 1\n",
        "  \n",
        "    # Copy the remaining elements of L[], if there \n",
        "    # are any \n",
        "    while i < len(left): \n",
        "        array[k] = left[i] \n",
        "        i += 1\n",
        "        k += 1\n",
        "  \n",
        "    # Copy the remaining elements of R[], if there \n",
        "    # are any \n",
        "    while j < len(right): \n",
        "        array[k] = right[j]\n",
        "        j += 1\n",
        "        k += 1\n",
        "  \n",
        "# first is for left index and last is right index of the \n",
        "# sub-array of arr to be sorted \n",
        "def mergeSort2(array, first, last): \n",
        "    if first < last: \n",
        "        middle = (first+last)//2\n",
        "        mergeSort2(array, first, middle)\n",
        "        mergeSort2(array, middle+1, last)\n",
        "        # Sort first and second halves \n",
        "        merge(array, first, middle, last)\n",
        "        \n",
        "def mergeSort(array):\n",
        "    mergeSort2(array, 0, len(array)-1)\n",
        "  "
      ],
      "execution_count": 0,
      "outputs": []
    },
    {
      "metadata": {
        "id": "cBNxiNo2Y3Gb",
        "colab_type": "code",
        "colab": {
          "base_uri": "https://localhost:8080/",
          "height": 34
        },
        "outputId": "8a073528-52c9-4427-9747-0e37d47614bc"
      },
      "cell_type": "code",
      "source": [
        "mergeSort(sample_list)\n",
        "sample_list\n"
      ],
      "execution_count": 365,
      "outputs": [
        {
          "output_type": "execute_result",
          "data": {
            "text/plain": [
              "[0, 1, 2, 3, 4, 5, 6, 7, 8, 9]"
            ]
          },
          "metadata": {
            "tags": []
          },
          "execution_count": 365
        }
      ]
    }
  ]
}