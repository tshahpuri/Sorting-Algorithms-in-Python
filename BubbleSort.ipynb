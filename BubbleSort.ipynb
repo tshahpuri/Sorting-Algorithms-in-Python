{
  "nbformat": 4,
  "nbformat_minor": 0,
  "metadata": {
    "colab": {
      "name": "BubbleSort.ipynb",
      "version": "0.3.2",
      "provenance": [],
      "include_colab_link": true
    },
    "kernelspec": {
      "name": "python3",
      "display_name": "Python 3"
    }
  },
  "cells": [
    {
      "cell_type": "markdown",
      "metadata": {
        "id": "view-in-github",
        "colab_type": "text"
      },
      "source": [
        "[View in Colaboratory](https://colab.research.google.com/github/tshahpuri/Sorting-Algorithms-in-Python/blob/master/BubbleSort.ipynb)"
      ]
    },
    {
      "metadata": {
        "id": "4zePFjQvDbdZ",
        "colab_type": "code",
        "colab": {}
      },
      "cell_type": "code",
      "source": [
        "# Author: Tejas Shahpuri\n",
        "# This is an example of bubble sort in python3\n",
        "\n",
        "sample_list = [9,8,7,6,5,4,3,2,1,0,10]"
      ],
      "execution_count": 0,
      "outputs": []
    },
    {
      "metadata": {
        "id": "Mr27EFY-Drjj",
        "colab_type": "code",
        "colab": {}
      },
      "cell_type": "code",
      "source": [
        "def BubbleSort(array):\n",
        "  length = len(array)\n",
        "  \n",
        "  for i in range(length):\n",
        "    for i in range(length - 1):\n",
        "      if(array[i] > array [i+1]):\n",
        "        temp = array[i]\n",
        "        array[i] = array[i+1]\n",
        "        array[i+1] = temp\n",
        "\n",
        "  return array "
      ],
      "execution_count": 0,
      "outputs": []
    },
    {
      "metadata": {
        "id": "48Up6Q6BEVkV",
        "colab_type": "code",
        "colab": {
          "base_uri": "https://localhost:8080/",
          "height": 34
        },
        "outputId": "8a72c1c3-2215-4279-e9da-50fb2a097043"
      },
      "cell_type": "code",
      "source": [
        "BubbleSort(sample_list)"
      ],
      "execution_count": 8,
      "outputs": [
        {
          "output_type": "execute_result",
          "data": {
            "text/plain": [
              "[0, 1, 2, 3, 4, 5, 6, 7, 8, 9, 10]"
            ]
          },
          "metadata": {
            "tags": []
          },
          "execution_count": 8
        }
      ]
    }
  ]
}