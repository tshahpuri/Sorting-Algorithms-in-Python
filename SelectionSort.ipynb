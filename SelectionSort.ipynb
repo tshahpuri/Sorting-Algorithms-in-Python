{
  "nbformat": 4,
  "nbformat_minor": 0,
  "metadata": {
    "colab": {
      "name": "Hello, Colaboratory",
      "version": "0.3.2",
      "provenance": [],
      "collapsed_sections": [],
      "include_colab_link": true
    },
    "kernelspec": {
      "display_name": "Python 3",
      "name": "python3"
    }
  },
  "cells": [
    {
      "cell_type": "markdown",
      "metadata": {
        "id": "view-in-github",
        "colab_type": "text"
      },
      "source": [
        "[View in Colaboratory](https://colab.research.google.com/github/tshahpuri/Sorting-Algorithms-in-Python/blob/master/SelectionSort.ipynb)"
      ]
    },
    {
      "metadata": {
        "id": "5jNG7R7b0QXT",
        "colab_type": "code",
        "colab": {}
      },
      "cell_type": "code",
      "source": [
        "# This is an example of selection sort in python3\n",
        "# This is an example of selection sort in python3\n",
        "\n",
        "sample_list = [9,8,7,6,5,4,3,2,1,10]"
      ],
      "execution_count": 0,
      "outputs": []
    },
    {
      "metadata": {
        "id": "6k0L1wrt1FuN",
        "colab_type": "code",
        "colab": {}
      },
      "cell_type": "code",
      "source": [
        "def selection_sort(array):\n",
        "    no_items = len(array) #Number of times to run the loop\n",
        "  \n",
        "    for i in range(no_items): #To complete all elements in array\n",
        "      min = i      # Smallest element index\n",
        " \n",
        "      for j in range(i+1,no_items): #Select the index of the smallest element\n",
        "        if (array[j] < array[min]):\n",
        "          min = j\n",
        "          \n",
        "      temp = array[min]        #Swap it with the sorted array from left\n",
        "      array[min] = array[i]\n",
        "      array[i] = temp\n",
        "     \n",
        "      \n",
        "    return array        \n"
      ],
      "execution_count": 0,
      "outputs": []
    },
    {
      "metadata": {
        "id": "rwQ-Xc9P1kBE",
        "colab_type": "code",
        "colab": {
          "base_uri": "https://localhost:8080/",
          "height": 34
        },
        "outputId": "a97c8971-57b5-4e5a-80b3-fcf8e670d220"
      },
      "cell_type": "code",
      "source": [
        "selection_sort(sample_list)"
      ],
      "execution_count": 116,
      "outputs": [
        {
          "output_type": "execute_result",
          "data": {
            "text/plain": [
              "[1, 2, 3, 4, 5, 6, 7, 8, 9, 10]"
            ]
          },
          "metadata": {
            "tags": []
          },
          "execution_count": 116
        }
      ]
    }
  ]
}
