{
  "nbformat": 4,
  "nbformat_minor": 0,
  "metadata": {
    "colab": {
      "name": "InsertionSort.ipynb",
      "version": "0.3.2",
      "provenance": [],
      "include_colab_link": true
    },
    "kernelspec": {
      "name": "python3",
      "display_name": "Python 3"
    }
  },
  "cells": [
    {
      "cell_type": "markdown",
      "metadata": {
        "id": "view-in-github",
        "colab_type": "text"
      },
      "source": [
        "[View in Colaboratory](https://colab.research.google.com/github/tshahpuri/Sorting-Algorithms-in-Python/blob/master/InsertionSort.ipynb)"
      ]
    },
    {
      "metadata": {
        "id": "s7StoNi2Ff3Z",
        "colab_type": "code",
        "colab": {}
      },
      "cell_type": "code",
      "source": [
        "# This is an example of Insertion sort\n",
        "# Author: Tejas Shahpuri\n",
        "\n",
        "sample_arr = [9,8,7,6,5,4,3,2,1,0,99]"
      ],
      "execution_count": 0,
      "outputs": []
    },
    {
      "metadata": {
        "id": "9EjI76-SFsjJ",
        "colab_type": "code",
        "colab": {}
      },
      "cell_type": "code",
      "source": [
        "def InsertionSort(array):\n",
        "    length = len(array)\n",
        "\n",
        "    for i in range(1,length): #To traverse through the array from position 2\n",
        "      value = array[i]\n",
        "      j = i - 1\n",
        "      \n",
        "      while j >= 0: \n",
        "        if value < array[j]:  \n",
        "          array[j+1], array[j] = array[j], value\n",
        "          j -= 1\n",
        "        else:\n",
        "            break\n",
        "      "
      ],
      "execution_count": 0,
      "outputs": []
    },
    {
      "metadata": {
        "id": "CU0d6I7tHJ1F",
        "colab_type": "code",
        "colab": {
          "base_uri": "https://localhost:8080/",
          "height": 34
        },
        "outputId": "e9acfb1e-c3fa-4863-bbae-0f30fd86e556"
      },
      "cell_type": "code",
      "source": [
        "InsertionSort(sample_arr)\n",
        "sample_arr"
      ],
      "execution_count": 217,
      "outputs": [
        {
          "output_type": "execute_result",
          "data": {
            "text/plain": [
              "[0, 1, 2, 3, 4, 5, 6, 7, 8, 9, 99]"
            ]
          },
          "metadata": {
            "tags": []
          },
          "execution_count": 217
        }
      ]
    }
  ]
}